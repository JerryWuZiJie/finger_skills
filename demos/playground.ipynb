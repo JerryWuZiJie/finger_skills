{
 "cells": [
  {
   "cell_type": "code",
   "execution_count": 1,
   "metadata": {},
   "outputs": [],
   "source": [
    "%matplotlib inline\n",
    "%load_ext autoreload\n",
    "%autoreload 2"
   ]
  },
  {
   "cell_type": "code",
   "execution_count": 51,
   "metadata": {},
   "outputs": [],
   "source": [
    "# we import useful libraries\n",
    "import time\n",
    "from robot_properties_nyu_finger.wrapper import NYUFingerDoubleRobot\n",
    "from bullet_utils.env import BulletEnv\n",
    "import numpy as np\n",
    "import pybullet\n",
    "import pinocchio as pin"
   ]
  },
  {
   "cell_type": "code",
   "execution_count": 8,
   "metadata": {},
   "outputs": [
    {
     "data": {
      "text/plain": [
       "<robot_properties_nyu_finger.wrapper.NYUFingerDoubleRobot at 0x7fb776e45550>"
      ]
     },
     "execution_count": 8,
     "metadata": {},
     "output_type": "execute_result"
    }
   ],
   "source": [
    "env = BulletEnv(pybullet.DIRECT)\n",
    "robot = NYUFingerDoubleRobot()\n",
    "env.add_robot(robot)"
   ]
  },
  {
   "cell_type": "code",
   "execution_count": 25,
   "metadata": {},
   "outputs": [],
   "source": [
    "q, v = robot.get_state()"
   ]
  },
  {
   "cell_type": "code",
   "execution_count": 53,
   "metadata": {},
   "outputs": [],
   "source": [
    "model = robot.pin_robot.model\n",
    "data = robot.pin_robot.data"
   ]
  },
  {
   "cell_type": "code",
   "execution_count": 54,
   "metadata": {},
   "outputs": [],
   "source": [
    "ee0_id = model.getFrameId(\"finger0_lower_to_tip_joint\")\n",
    "ee1_id = model.getFrameId(\"finger1_lower_to_tip_joint\")"
   ]
  },
  {
   "cell_type": "code",
   "execution_count": 68,
   "metadata": {},
   "outputs": [],
   "source": [
    "pin.forwardKinematics(model, data, q, v)\n",
    "ee0_pose = pin.updateFramePlacement(model, data, ee0_id)\n",
    "ee1_pose = pin.updateFramePlacement(model, data, ee1_id)"
   ]
  },
  {
   "cell_type": "code",
   "execution_count": 90,
   "metadata": {},
   "outputs": [],
   "source": [
    "body_jacobian_ee0 = pin.computeFrameJacobian(model, data, q, ee0_id)\n",
    "body_jacobian_ee1 = pin.computeFrameJacobian(model, data, q, ee1_id)"
   ]
  },
  {
   "cell_type": "code",
   "execution_count": 91,
   "metadata": {},
   "outputs": [],
   "source": [
    "R_ee0 = ee0_pose.rotation\n",
    "R_ee1 = ee1_pose.rotation"
   ]
  },
  {
   "cell_type": "code",
   "execution_count": 92,
   "metadata": {},
   "outputs": [],
   "source": [
    "Ad0 = np.zeros((6, 6))\n",
    "Ad0[:3, :3] = R_ee0\n",
    "Ad0[3:, 3:] = R_ee0\n",
    "\n",
    "Ad1 = np.zeros((6, 6))\n",
    "Ad1[:3, :3] = R_ee1\n",
    "Ad1[3:, 3:] = R_ee1"
   ]
  },
  {
   "cell_type": "code",
   "execution_count": 93,
   "metadata": {},
   "outputs": [],
   "source": [
    "oriented_jacobian_ee0 = Ad0 @ body_jacobian_ee0\n",
    "oriented_jacobian_ee1 = Ad1 @ body_jacobian_ee1"
   ]
  },
  {
   "cell_type": "code",
   "execution_count": 100,
   "metadata": {},
   "outputs": [],
   "source": [
    "Jov0 = oriented_jacobian_ee0[:3, :3]\n",
    "Jov1 = oriented_jacobian_ee1[:3, :3]\n"
   ]
  },
  {
   "cell_type": "code",
   "execution_count": 40,
   "metadata": {},
   "outputs": [
    {
     "name": "stdout",
     "output_type": "stream",
     "text": [
      "universe\n",
      "root_joint\n",
      "base_link\n",
      "base_to_finger0\n",
      "finger0_base_link\n",
      "finger0_base_to_upper_joint\n",
      "finger0_upper_link\n",
      "finger0_upper_to_middle_joint\n",
      "finger0_middle_link\n",
      "finger0_middle_to_lower_joint\n",
      "finger0_lower_link\n",
      "finger0_lower_to_tip_joint\n",
      "finger0_tip_link\n",
      "base_to_finger1\n",
      "finger1_base_link\n",
      "finger1_base_to_upper_joint\n",
      "finger1_upper_link\n",
      "finger1_upper_to_middle_joint\n",
      "finger1_middle_link\n",
      "finger1_middle_to_lower_joint\n"
     ]
    }
   ],
   "source": [
    "for i in range(20):\n",
    "    print(robot.pin_robot.model.frames[i].name)"
   ]
  },
  {
   "cell_type": "code",
   "execution_count": 38,
   "metadata": {},
   "outputs": [],
   "source": [
    "robot.pin_robot.data.oMf?"
   ]
  },
  {
   "cell_type": "code",
   "execution_count": 37,
   "metadata": {},
   "outputs": [
    {
     "data": {
      "text/plain": [
       "'finger1_middle_to_lower_joint'"
      ]
     },
     "execution_count": 37,
     "metadata": {},
     "output_type": "execute_result"
    }
   ],
   "source": [
    "robot.pin_robot.model.names[6]"
   ]
  },
  {
   "cell_type": "code",
   "execution_count": 3,
   "metadata": {},
   "outputs": [
    {
     "data": {
      "text/plain": [
       "<robot_properties_nyu_finger.wrapper.NYUFingerDoubleRobot at 0x7f3e1c8cadf0>"
      ]
     },
     "execution_count": 3,
     "metadata": {},
     "output_type": "execute_result"
    }
   ],
   "source": [
    "# ! Create a Pybullet simulation environment before any robots !\n",
    "env = BulletEnv()\n",
    "\n",
    "# Create a robot instance. This adds the robot to the simulator as well.\n",
    "robot = NYUFingerDoubleRobot()\n",
    "\n",
    "# Add the robot to the env to update the internal structure of the robot\n",
    "# at every simulation steps.\n",
    "env.add_robot(robot)"
   ]
  },
  {
   "cell_type": "code",
   "execution_count": 5,
   "metadata": {},
   "outputs": [],
   "source": [
    "robot.pin_robot.computeJointJacobian?"
   ]
  },
  {
   "cell_type": "code",
   "execution_count": 1,
   "metadata": {},
   "outputs": [
    {
     "ename": "NameError",
     "evalue": "name 'np' is not defined",
     "output_type": "error",
     "traceback": [
      "\u001b[0;31m---------------------------------------------------------------------------\u001b[0m",
      "\u001b[0;31mNameError\u001b[0m                                 Traceback (most recent call last)",
      "\u001b[0;32m<ipython-input-1-4e428cb6bd92>\u001b[0m in \u001b[0;36m<module>\u001b[0;34m\u001b[0m\n\u001b[1;32m    126\u001b[0m \u001b[0;34m\u001b[0m\u001b[0m\n\u001b[1;32m    127\u001b[0m \u001b[0;31m# todo: test\u001b[0m\u001b[0;34m\u001b[0m\u001b[0;34m\u001b[0m\u001b[0;34m\u001b[0m\u001b[0m\n\u001b[0;32m--> 128\u001b[0;31m \u001b[0mvelocity_control_circle\u001b[0m\u001b[0;34m(\u001b[0m\u001b[0;34m[\u001b[0m\u001b[0;36m0.3\u001b[0m\u001b[0;34m,\u001b[0m \u001b[0;34m-\u001b[0m\u001b[0;36m0.2\u001b[0m\u001b[0;34m]\u001b[0m\u001b[0;34m,\u001b[0m \u001b[0;36m0.05\u001b[0m\u001b[0;34m)\u001b[0m\u001b[0;34m\u001b[0m\u001b[0;34m\u001b[0m\u001b[0m\n\u001b[0m",
      "\u001b[0;32m<ipython-input-1-4e428cb6bd92>\u001b[0m in \u001b[0;36mvelocity_control_circle\u001b[0;34m(center, radius, run_time, plotting)\u001b[0m\n\u001b[1;32m     24\u001b[0m     \u001b[0;31m# initialize robot\u001b[0m\u001b[0;34m\u001b[0m\u001b[0;34m\u001b[0m\u001b[0;34m\u001b[0m\u001b[0m\n\u001b[1;32m     25\u001b[0m     \u001b[0;31m# TODO: might not want to reset state\u001b[0m\u001b[0;34m\u001b[0m\u001b[0;34m\u001b[0m\u001b[0;34m\u001b[0m\u001b[0m\n\u001b[0;32m---> 26\u001b[0;31m     \u001b[0mq0\u001b[0m \u001b[0;34m=\u001b[0m \u001b[0mnp\u001b[0m\u001b[0;34m.\u001b[0m\u001b[0mones\u001b[0m\u001b[0;34m(\u001b[0m\u001b[0mrobot\u001b[0m\u001b[0;34m.\u001b[0m\u001b[0mnq\u001b[0m\u001b[0;34m)\u001b[0m\u001b[0;34m\u001b[0m\u001b[0;34m\u001b[0m\u001b[0m\n\u001b[0m\u001b[1;32m     27\u001b[0m     \u001b[0mdq0\u001b[0m \u001b[0;34m=\u001b[0m \u001b[0mnp\u001b[0m\u001b[0;34m.\u001b[0m\u001b[0mzeros\u001b[0m\u001b[0;34m(\u001b[0m\u001b[0mrobot\u001b[0m\u001b[0;34m.\u001b[0m\u001b[0mnv\u001b[0m\u001b[0;34m)\u001b[0m\u001b[0;34m\u001b[0m\u001b[0;34m\u001b[0m\u001b[0m\n\u001b[1;32m     28\u001b[0m     \u001b[0mrobot\u001b[0m\u001b[0;34m.\u001b[0m\u001b[0mreset_state\u001b[0m\u001b[0;34m(\u001b[0m\u001b[0mq0\u001b[0m\u001b[0;34m,\u001b[0m \u001b[0mdq0\u001b[0m\u001b[0;34m)\u001b[0m\u001b[0;34m\u001b[0m\u001b[0;34m\u001b[0m\u001b[0m\n",
      "\u001b[0;31mNameError\u001b[0m: name 'np' is not defined"
     ]
    }
   ],
   "source": [
    "def velocity_control_circle(center, radius, run_time=5.0, plotting=False):\n",
    "    '''\n",
    "    draw a circle in the xy plane\n",
    "    center (list): center of the circle\n",
    "    radius (float): radius of the circle\n",
    "    run_time (int): runtime in seconds\n",
    "    return:\n",
    "    '''\n",
    "    # check len of center\n",
    "    assert len(center) == 2, \"center should include 2 values\"\n",
    "    # calculate desired position and velocity\n",
    "    def get_pv(time, omega):\n",
    "        '''\n",
    "        return the position and velocity at given time and omega\n",
    "        '''\n",
    "        p_ref = np.array([center[0] + radius * np.cos(omega * time),\n",
    "                          center[1] + radius * np.sin(omega * time),\n",
    "                          0.])\n",
    "        dp_ref = np.array([-radius * omega * np.sin(omega * time),\n",
    "                           radius * omega * np.cos(omega * time),\n",
    "                           0.])\n",
    "        return p_ref, dp_ref\n",
    "\n",
    "    # initialize robot\n",
    "    # TODO: might not want to reset state\n",
    "    q0 = np.ones(robot.nq)\n",
    "    dq0 = np.zeros(robot.nv)\n",
    "    robot.reset_state(q0, dq0)\n",
    "    \n",
    "    # set p, d values\n",
    "    D = np.array([0.3, 0.3, 0.3])\n",
    "    \n",
    "    # the P gain for the velocity control (cf. equations above)\n",
    "    gain = 2.\n",
    "    \n",
    "    # 1 ms for each step\n",
    "    dt = 0.001\n",
    "    num_steps = int(run_time/dt)\n",
    "    \n",
    "    if plotting:\n",
    "        # we store information\n",
    "        # here we create some arrays that we use to store data generated during the control loop\n",
    "        measured_positions = np.zeros([num_steps,3]) # will store the measured position\n",
    "        measured_velocities = np.zeros_like(measured_positions) # will store the measure velocities\n",
    "\n",
    "        desired_torques = np.zeros_like(measured_positions) # will store the commands we send to the robot\n",
    "        desired_positions = np.zeros_like(measured_positions) # will store the desired positions we use in the PD controller\n",
    "        desired_velocities = np.zeros_like(measured_positions) # will store the desired velocities\n",
    "\n",
    "        reference_foot_positions = np.zeros([num_steps, 3])\n",
    "        reference_foot_velocities = np.zeros([num_steps, 3])\n",
    "\n",
    "        simulation_time = np.zeros([num_steps]) # will store the running time\n",
    "\n",
    "        x_pos = np.zeros([num_steps]) # will store the x position of the foot (as computed by Forw. Kin.)\n",
    "        y_pos = np.zeros([num_steps]) # will store the y position of the foot (as computed by Forw. Kin.)\n",
    "        z_pos = np.zeros([num_steps]) # will store the z position of the foot (as computed by Forw. Kin.)\n",
    "\n",
    "        x_vel = np.zeros([num_steps]) # will store the x velocity of the foot\n",
    "        y_vel = np.zeros([num_steps]) # will store the y velocity of the foot\n",
    "        z_vel = np.zeros([num_steps]) # will store the z velocity of the foot\n",
    "    \n",
    "    \n",
    "    # now we can enter the main control loop (each loop is 1 control cycle)\n",
    "    for i in range(num_steps):\n",
    "\n",
    "        # we get the position and velocities of the joints and save them\n",
    "        q, dq = robot.get_state()\n",
    "        \n",
    "        if plotting:\n",
    "            measured_positions[i,:] = q\n",
    "            measured_velocities[i,:] = dq\n",
    "            # get the current time and store it\n",
    "            simulation_time[i] = dt * i\n",
    "            \n",
    "        '''\n",
    "        1. Compute forward kinematics and get end-effector position\n",
    "        2. Compute Jacobians. Note: in which frame you should compute it. If you computed the body Jacobian\n",
    "        how do you convert it to the desired frame?\n",
    "        '''\n",
    "\n",
    "        # save the current position of the foot using the FK function    \n",
    "        kin.update_kinematics(q)\n",
    "        if plotting:\n",
    "            x_pos[i] = kin.TS_F[0,3]\n",
    "            y_pos[i] = kin.TS_F[1,3]\n",
    "            z_pos[i] = kin.TS_F[2,3]\n",
    "\n",
    "        ####FILLL HERE THE VELOCITY CONTROLLER\n",
    "        x_measured = np.array([kin.TS_F[0,3],\n",
    "                               kin.TS_F[1,3],\n",
    "                               kin.TS_F[2,3]])\n",
    "        \n",
    "        x_ref, dx_ref = get_pv(dt * i, np.pi)\n",
    "\n",
    "        if plotting:\n",
    "            reference_foot_positions[i] = x_ref\n",
    "            reference_foot_velocities[i] = dx_ref\n",
    "\n",
    "        Jov = kin.orientedJ[3:6, :]\n",
    "        \n",
    "        if plotting:\n",
    "            x_vel[i], y_vel[i], z_vel[i] = Jov @ dq\n",
    "\n",
    "        if np.abs(q[2] < 0.05):\n",
    "            Jov_inv = np.linalg.pinv(Jov + 1e-4*np.eye(3))\n",
    "        else:\n",
    "            Jov_inv = np.linalg.pinv(Jov)\n",
    "\n",
    "        dx_des = dx_ref + gain * (x_ref - x_measured)\n",
    "        dq_des = Jov_inv @ dx_des\n",
    "\n",
    "        if plotting:\n",
    "            desired_positions[i,:] = q # there is no desired joint position so we just store the current one\n",
    "            desired_velocities[i,:] = dq_des\n",
    "\n",
    "        d_error = dq_des - dq # the velocity error for all the joints\n",
    "\n",
    "        # we compute the desired torques as a PD controller\n",
    "        joint_torques = D * d_error\n",
    "        if plotting:\n",
    "            desired_torques[i,:] = joint_torques\n",
    "\n",
    "        # we send them to the robot and do one simulation step\n",
    "        robot.send_joint_command(joint_torques)\n",
    "        env.step(sleep=True)\n",
    "        \n",
    "# todo: test\n",
    "velocity_control_circle([0.3, -0.2], 0.05)"
   ]
  },
  {
   "cell_type": "code",
   "execution_count": 6,
   "metadata": {},
   "outputs": [
    {
     "name": "stdout",
     "output_type": "stream",
     "text": [
      "q [-0.82513369  0.64415761  0.50698405 -0.82513369  0.64415761  0.50698405]\n",
      "dq [-1.49455941 -2.99487857  2.51870468 -1.49455941 -2.99487857  2.51870468]\n",
      "active eff []\n",
      "forces []\n"
     ]
    }
   ],
   "source": [
    "# TODO: add collision detection\n",
    "\n",
    "# Some control.\n",
    "tau = np.zeros(robot.nv)\n",
    "\n",
    "# Reset the robot to some initial state.\n",
    "q0 = 0.5 * np.ones(robot.nq)\n",
    "dq0 = np.zeros(robot.nv)\n",
    "robot.reset_state(q0, dq0)\n",
    "\n",
    "# Run the simulator for 2000 steps\n",
    "for i in range(2000):\n",
    "    # TODO: Implement a controller here.\n",
    "    robot.send_joint_command(tau)\n",
    "\n",
    "    # Step the simulator.\n",
    "    env.step(\n",
    "        sleep=True\n",
    "    )  # You can sleep here if you want to slow down the replay\n",
    "\n",
    "# Read the final state and forces after the stepping.\n",
    "q, dq = robot.get_state()\n",
    "active_eff, forces = robot.get_force()\n",
    "print(\"q\", q)\n",
    "print(\"dq\", dq)\n",
    "print(\"active eff\", active_eff)\n",
    "print(\"forces\", forces)"
   ]
  },
  {
   "cell_type": "raw",
   "metadata": {},
   "source": []
  }
 ],
 "metadata": {
  "kernelspec": {
   "display_name": "Python 3",
   "language": "python",
   "name": "python3"
  },
  "language_info": {
   "codemirror_mode": {
    "name": "ipython",
    "version": 3
   },
   "file_extension": ".py",
   "mimetype": "text/x-python",
   "name": "python",
   "nbconvert_exporter": "python",
   "pygments_lexer": "ipython3",
   "version": "3.8.5"
  }
 },
 "nbformat": 4,
 "nbformat_minor": 5
}
