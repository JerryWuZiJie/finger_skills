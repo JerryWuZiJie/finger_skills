{
 "cells": [
  {
   "cell_type": "code",
   "execution_count": 1,
   "metadata": {},
   "outputs": [],
   "source": [
    "import numpy as np\n",
    "import matplotlib.pylab as plt\n",
    "import pinocchio as pin\n",
    "\n",
    "from bullet_utils.env import BulletEnvWithGround\n",
    "from bullet_utils.env import BulletEnv\n",
    "# from robot_properties_nyu_finger.wrapper import NYUFingerDoubleRobot, NYUFingerDoubleConfig\n",
    "from robot_properties_nyu_finger.config import NYUFingerDoubleConfig0, NYUFingerDoubleConfig1\n",
    "from robot_properties_nyu_finger.wrapper import NYUFingerRobot\n",
    "\n",
    "from dynamic_graph_head import ThreadHead, SimHead, SimVicon, HoldPDController"
   ]
  },
  {
   "cell_type": "markdown",
   "metadata": {},
   "source": [
    "# Example controller used for demonstration."
   ]
  },
  {
   "cell_type": "code",
   "execution_count": 2,
   "metadata": {},
   "outputs": [],
   "source": [
    "# function for calculating position matrix\n",
    "def cal_pose(pin_robot, id_ee):\n",
    "    '''\n",
    "    calculate position matrix (transition and rotation)\n",
    "    '''\n",
    "    # get frame id\n",
    "    frame = pin_robot.model.getFrameId(id_ee)\n",
    "\n",
    "    # get pose\n",
    "    return pin.updateFramePlacement(pin_robot.model, pin_robot.data, frame)\n",
    "\n",
    "\n",
    "# function for calculating jacobian matrix\n",
    "def cal_oriented_j(pin_robot, id_ee, q):\n",
    "    '''\n",
    "    calculate oriented jacobian of the end effector\n",
    "    '''\n",
    "    # get frame id\n",
    "    frame = pin_robot.model.getFrameId(id_ee)\n",
    "\n",
    "    # get pose\n",
    "    pose = pin.updateFramePlacement(pin_robot.model, pin_robot.data, frame)\n",
    "\n",
    "    # get oriented jacobian\n",
    "    body_jocobian = pin.computeFrameJacobian(pin_robot.model, pin_robot.data, q, frame)\n",
    "    Ad = np.zeros((6, 6))\n",
    "    Ad[:3, :3] = pose.rotation\n",
    "    Ad[3:, 3:] = pose.rotation\n",
    "\n",
    "    return Ad @ body_jocobian\n",
    "\n",
    "\n",
    "# TODO: given position, return desired angle\n",
    "def cal_inverseK():\n",
    "    pass"
   ]
  },
  {
   "cell_type": "markdown",
   "metadata": {},
   "source": [
    "## PD controller"
   ]
  },
  {
   "cell_type": "code",
   "execution_count": 3,
   "metadata": {},
   "outputs": [],
   "source": [
    "# PD controller\n",
    "class PD_controller:\n",
    "    def __init__(self, head, id_ee, P, D):\n",
    "        self.head = head\n",
    "        # not used for now\n",
    "#         self.id = id_ee\n",
    "#         if '0' in self.id:\n",
    "#             self.robot = NYUFingerDoubleConfig0.buildRobotWrapper()\n",
    "#         else:\n",
    "#             self.robot = NYUFingerDoubleConfig1.buildRobotWrapper()\n",
    "        \n",
    "#         # pos and vel is reference, will update automatically\n",
    "#         self.joint_positions = head.get_sensor('joint_positions')\n",
    "#         self.joint_velocities = head.get_sensor('joint_velocities')\n",
    "        \n",
    "        self.set_control(P, D)\n",
    "        self.set_target(np.array([0,0,np.pi/2]))\n",
    "        \n",
    "        # pos and vel is reference, will update automatically\n",
    "        self.joint_positions = head.get_sensor('joint_positions')\n",
    "        self.joint_velocities = head.get_sensor('joint_velocities')\n",
    "\n",
    "    def set_control(self, P, D):\n",
    "        self.P = P\n",
    "        self.D = D\n",
    "        \n",
    "    def set_target(self, target):\n",
    "        self.target = target\n",
    "    \n",
    "    def cal_torque(self, q_ref, q_meas, dq_ref, dq_meas):\n",
    "        '''\n",
    "        calculate the joint torques\n",
    "        '''\n",
    "        error = q_ref - q_meas # the position error for all the joints (it's a 3D vector)\n",
    "        d_error = dq_ref - dq_meas # the velocity error for all the joints\n",
    "\n",
    "        # we compute the desired torques as a PD controller\n",
    "        joint_torques = self.P * error + self.D * d_error\n",
    "\n",
    "        return joint_torques\n",
    "        \n",
    "    def warmup(self, thread):\n",
    "        pass\n",
    "    \n",
    "    def run(self, thread):\n",
    "        # not used for now\n",
    "#         self.robot.framesForwardKinematics(self.joint_positions)\n",
    "\n",
    "        # calculate torque\n",
    "        self.tau = self.cal_torque(self.target, self.joint_positions, np.zeros(3), self.joint_velocities)        \n",
    "\n",
    "        self.head.set_control('ctrl_joint_torques', self.tau)"
   ]
  },
  {
   "cell_type": "markdown",
   "metadata": {},
   "source": [
    "## Velocity controller"
   ]
  },
  {
   "cell_type": "code",
   "execution_count": 4,
   "metadata": {},
   "outputs": [],
   "source": [
    "# velocity controller\n",
    "class VelocityController:\n",
    "    def __init__(self, head, id_ee, gain, D, center, radius, total_time, dt=0.001, w=np.pi):\n",
    "        self.head = head\n",
    "        self.id = id_ee\n",
    "        if '0' in self.id:\n",
    "            self.robot = NYUFingerDoubleConfig0.buildRobotWrapper()\n",
    "        else:\n",
    "            self.robot = NYUFingerDoubleConfig1.buildRobotWrapper()\n",
    "        self.set_control(gain, D)\n",
    "        self.dt = dt\n",
    "        self.total_steps = int(total_time/dt)\n",
    "        self.current_step = 0\n",
    "        \n",
    "        # pos and vel is reference, will update automatically\n",
    "        self.joint_positions = head.get_sensor('joint_positions')\n",
    "        self.joint_velocities = head.get_sensor('joint_velocities')\n",
    "        \n",
    "        # calculate circle locus\n",
    "        self.target = self.circular_locus(center, radius, total_time, dt, w)\n",
    "    \n",
    "    def set_control(self, gain, D):\n",
    "        self.gain = gain\n",
    "        self.D = D\n",
    "        \n",
    "    def set_target(self, target):\n",
    "        pass\n",
    "        \n",
    "    def cal_torque(self, x_ref, x_meas, dx_ref, q, dq, jacobian):\n",
    "        '''\n",
    "        Given reference position and velocity, calculate and return desired torques\n",
    "        '''\n",
    "        # velocity part of jacobian\n",
    "        Jov = jacobian[:3]\n",
    "        \n",
    "        # calculated inverse Jacobian\n",
    "        if np.abs(q[2] < 0.05):\n",
    "            Jov_inv = np.linalg.pinv(Jov + 1e-4*np.eye(3))\n",
    "        else:\n",
    "            Jov_inv = np.linalg.pinv(Jov)\n",
    "        \n",
    "        # calculate torque\n",
    "        dx_des = dx_ref + self.gain * (x_ref - x_meas)\n",
    "        dq_des = Jov_inv @ dx_des        \n",
    "        d_error = dq_des - dq\n",
    "        joint_torques = self.D * d_error\n",
    "        \n",
    "        return joint_torques\n",
    "        \n",
    "    def warmup(self, thread):\n",
    "        pass\n",
    "    \n",
    "    def run(self, thread):\n",
    "        try:\n",
    "            x_ref, dx_ref = self.target[self.current_step]\n",
    "            \n",
    "            # update robot kinematics\n",
    "            self.robot.framesForwardKinematics(self.joint_positions)\n",
    "            pose_trans = cal_pose(self.robot, self.id).translation\n",
    "            oj = cal_oriented_j(self.robot, self.id, self.joint_positions)\n",
    "\n",
    "            # calculate torque\n",
    "            self.tau = self.cal_torque(x_ref, pose_trans, dx_ref, self.joint_positions, self.joint_velocities, oj)        \n",
    "\n",
    "            self.head.set_control('ctrl_joint_torques', self.tau)\n",
    "            self.current_step += 1\n",
    "        except IndexError as e:\n",
    "            print('\\033[91m', 'ERROR: step out of range for velocity controller!', '\\033[0m')\n",
    "            raise Exception(e)\n",
    "    \n",
    "    @staticmethod\n",
    "    def circular_locus(center, radius, total_time, dt=0.001, w=np.pi):\n",
    "        '''\n",
    "        calculate desire circular locus in xz plane\n",
    "        '''\n",
    "        length = int(total_time/dt) + 5  # switch controller has 1 extra run, +5 to ensure no index error\n",
    "        locus = []\n",
    "        for i in range(length):\n",
    "            t = dt * i\n",
    "            x_ref = np.array([center[0] + radius * np.sin(w * t),\n",
    "                              center[1],\n",
    "                              center[2] + radius * np.cos(w * t)])\n",
    "            dx_ref = np.array([radius * w * np.cos(w * t),\n",
    "                               0.,\n",
    "                               -radius * w * np.sin(w * t)])\n",
    "            locus.append((x_ref, dx_ref))\n",
    "\n",
    "        return locus"
   ]
  },
  {
   "cell_type": "markdown",
   "metadata": {},
   "source": [
    "## Impedance controller"
   ]
  },
  {
   "cell_type": "code",
   "execution_count": 5,
   "metadata": {},
   "outputs": [],
   "source": [
    "# impedance controller\n",
    "class ImpedanceController:\n",
    "    def __init__(self, head, id_ee, spring_const, damping):\n",
    "        self.head = head\n",
    "        self.id = id_ee\n",
    "        if '0' in self.id:\n",
    "            self.robot = NYUFingerDoubleConfig0.buildRobotWrapper()\n",
    "        else:\n",
    "            self.robot = NYUFingerDoubleConfig1.buildRobotWrapper()\n",
    "        self.set_control(spring_const, damping)\n",
    "        self.target = self.set_target(np.array([0.051+0.1, 0.059, 0.05+0.1]))\n",
    "        \n",
    "        # pos and vel is reference, will update automatically\n",
    "        self.joint_positions = head.get_sensor('joint_positions')\n",
    "        self.joint_velocities = head.get_sensor('joint_velocities')\n",
    "        \n",
    "        self.current_step = 0\n",
    "        \n",
    "    def set_control(self, K, D):\n",
    "        self.K = np.array(K)\n",
    "        self.D = np.array(D)\n",
    "        \n",
    "    def set_target(self, target):\n",
    "        self.target = target\n",
    "    \n",
    "    def cal_torque(self, x_ref, x_meas, dx_ref, q, dq, jacobian):\n",
    "        # todo: q not used\n",
    "        '''\n",
    "        calculate torque\n",
    "        '''\n",
    "        Jov = jacobian[:3]\n",
    "        dx_meas = Jov.dot(dq)\n",
    "        \n",
    "        des_force = self.K.dot(x_ref - x_meas) + self.D.dot(dx_ref - dx_meas)\n",
    "        joint_torques = Jov.T.dot(des_force)\n",
    "\n",
    "        return joint_torques\n",
    "        \n",
    "    def warmup(self, thread):\n",
    "        pass\n",
    "    \n",
    "    def run(self, thread):\n",
    "        # update robot kinematics\n",
    "        self.robot.framesForwardKinematics(self.joint_positions)\n",
    "        pose_trans = cal_pose(self.robot, self.id).translation\n",
    "        oj = cal_oriented_j(self.robot, self.id, self.joint_positions)\n",
    "        \n",
    "        self.tau = self.cal_torque(self.target, pose_trans, np.zeros(3), self.joint_positions, self.joint_velocities, oj)     \n",
    "\n",
    "        self.head.set_control('ctrl_joint_torques', self.tau)\n",
    "        self.current_step += 1"
   ]
  },
  {
   "cell_type": "markdown",
   "metadata": {},
   "source": [
    "# Init the BulletEnv and setup the robot in it."
   ]
  },
  {
   "cell_type": "code",
   "execution_count": 6,
   "metadata": {},
   "outputs": [
    {
     "data": {
      "text/plain": [
       "<robot_properties_nyu_finger.wrapper.NYUFingerRobot at 0x7f88080bfd00>"
      ]
     },
     "execution_count": 6,
     "metadata": {},
     "output_type": "execute_result"
    }
   ],
   "source": [
    "bullet_env = BulletEnv()  # BulletEnvWithGround()\n",
    "\n",
    "# Create a robot instance. This initializes the simulator as well.\n",
    "config0 = NYUFingerDoubleConfig0()\n",
    "config1 = NYUFingerDoubleConfig1()\n",
    "finger0 = NYUFingerRobot(config=config0)\n",
    "finger1 = NYUFingerRobot(config=config1)\n",
    "id0 = 'finger0_lower_to_tip_joint'\n",
    "id1 = 'finger1_lower_to_tip_joint'\n",
    "bullet_env.add_robot(finger0)\n",
    "bullet_env.add_robot(finger1)"
   ]
  },
  {
   "cell_type": "markdown",
   "metadata": {},
   "source": [
    "# Setup the simulated head and the thread_head.\n",
    "\n",
    "The `thread_head` is the central object which executes the actul setup. It also orchastrates data logging and streaming (for plotting) of data."
   ]
  },
  {
   "cell_type": "code",
   "execution_count": 7,
   "metadata": {},
   "outputs": [
    {
     "name": "stdout",
     "output_type": "stream",
     "text": [
      "Hello world from websocket thread. <ThreadHead(Thread-4, initial)>\n"
     ]
    }
   ],
   "source": [
    "dt = 0.001\n",
    "\n",
    "head0 = SimHead(finger0, vicon_name='solo12', with_sliders=False)\n",
    "head1 = SimHead(finger1, vicon_name='solo12', with_sliders=False)\n",
    "thread_head = ThreadHead(\n",
    "    dt, # dt.\n",
    "    HoldPDController(head0, 3., 0.05, with_sliders=False), # Safety controllers.\n",
    "#     head0, # Heads to read / write from.\n",
    "    {'finger0': head0, 'finger1': head1}, # Heads to read / write from.\n",
    "    [     # Utils.\n",
    "#         ('vicon', SimVicon(['solo12/solo12']))  # not using it anyway\n",
    "    ], \n",
    "    bullet_env # Environment to step.\n",
    ")"
   ]
  },
  {
   "cell_type": "markdown",
   "metadata": {},
   "source": [
    "# Initialize the controller and run simulation"
   ]
  },
  {
   "cell_type": "code",
   "execution_count": 9,
   "metadata": {},
   "outputs": [
    {
     "name": "stderr",
     "output_type": "stream",
     "text": [
      "Traceback (most recent call last):\n",
      "  File \"/home/jerry/Projects/workspace/install/dynamic_graph_head/lib/python3.8/site-packages/dynamic_graph_head/thread_head.py\", line 88, in switch_controllers\n",
      "    ctrl.run(self)\n",
      "  File \"<ipython-input-5-8f1a6dc9686d>\", line 48, in run\n",
      "    self.tau = self.cal_torque(self.target, pose_trans.translation, np.zeros(3), self.joint_positions, self.joint_velocities, oj)\n",
      "AttributeError: 'numpy.ndarray' object has no attribute 'translation'\n"
     ]
    },
    {
     "name": "stdout",
     "output_type": "stream",
     "text": [
      "!!! ThreadHead: Error during controller warmup & run -> Switching to safety controller.\n",
      "  Not logging 'head' as field type '<class 'dynamic_graph_head.sim_head.SimHead'>' is unsupported\n",
      "  Not logging 'with_sliders' as field type '<class 'bool'>' is unsupported\n",
      "!!! ThreadHead: Start streaming data.\n",
      "!!! ThreadHead: Start logging to file \"2021-07-13_17-59-16.mds\" for 30.00 seconds.\n",
      "!!! ThreadHead: Stop streaming data.\n",
      "!!! ThreadHead: Stop logging to file \"2021-07-13_17-59-16.mds\".\n"
     ]
    },
    {
     "data": {
      "image/png": "[encoded data removed]",
      "text/plain": [
       "<Figure size 576x720 with 4 Axes>"
      ]
     },
     "metadata": {
      "needs_background": "light"
     },
     "output_type": "display_data"
    }
   ],
   "source": [
    "sim_time = 5.0  # seconds\n",
    "center = [-0.16106215355033854, -0.04274526610493587, 0.164134808398184]\n",
    "\n",
    "# finger0\n",
    "gain = 1.\n",
    "D = np.array([0.3, 0.3, 0.3])\n",
    "ctrl0 = VelocityController(head0, id0, gain, D, center=center,\n",
    "                                               radius = 0.04, total_time=sim_time, dt=dt, w=np.pi)\n",
    "q0 = np.array([0., -0.5, 1])\n",
    "dq0 = np.array(NYUFingerDoubleConfig0.initial_velocity)\n",
    "thread_head.heads['finger0'].reset_state(q0, dq0)\n",
    "\n",
    "# finger1 PD\n",
    "# P = np.array([4,4,3])\n",
    "# D = np.array([.5,.4,.2])\n",
    "# ctrl1 = PD_controller(head1, id1, P, D)\n",
    "# q1 = np.array(NYUFingerDoubleConfig1.initial_configuration)\n",
    "# dq1 = np.array(NYUFingerDoubleConfig1.initial_velocity)\n",
    "# thread_head.heads['finger1'].reset_state(q1, dq1)\n",
    "\n",
    "# finger1 impedance\n",
    "K = np.diag([50,50,10])\n",
    "D = np.diag([5,5,0])\n",
    "ctrl1 = ImpedanceController(head1, id1, K, D)\n",
    "q1 = np.array(NYUFingerDoubleConfig1.initial_configuration)\n",
    "dq1 = np.array(NYUFingerDoubleConfig1.initial_velocity)\n",
    "thread_head.heads['finger1'].reset_state(q1, dq1)\n",
    "\n",
    "# start simulation\n",
    "thread_head.switch_controllers((ctrl0, ctrl1))\n",
    "\n",
    "thread_head.start_streaming()\n",
    "thread_head.start_logging()\n",
    "\n",
    "thread_head.sim_run(int(sim_time/dt), sleep=True)\n",
    "\n",
    "thread_head.stop_streaming()\n",
    "thread_head.stop_logging()\n",
    "\n",
    "# Plot timing information.\n",
    "thread_head.plot_timing()"
   ]
  }
 ],
 "metadata": {
  "kernelspec": {
   "display_name": "Python 3",
   "language": "python",
   "name": "python3"
  },
  "language_info": {
   "codemirror_mode": {
    "name": "ipython",
    "version": 3
   },
   "file_extension": ".py",
   "mimetype": "text/x-python",
   "name": "python",
   "nbconvert_exporter": "python",
   "pygments_lexer": "ipython3",
   "version": "3.8.10"
  }
 },
 "nbformat": 4,
 "nbformat_minor": 4
}
